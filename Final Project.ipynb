{
 "cells": [
  {
   "cell_type": "code",
   "execution_count": 12,
   "metadata": {},
   "outputs": [],
   "source": [
    "import pandas as pd\n",
    "import numpy as np\n",
    "import matplotlib.pyplot as plt\n",
    "import matplotlib.transforms as mtransforms\n",
    "import matplotlib.lines as mlines\n",
    "from sklearn.linear_model import LinearRegression\n",
    "from sklearn import metrics\n",
    "from sklearn.metrics import r2_score\n",
    "import seaborn as sb\n",
    "%matplotlib inline"
   ]
  },
  {
   "cell_type": "markdown",
   "metadata": {},
   "source": [
    "# 1B"
   ]
  },
  {
   "cell_type": "code",
   "execution_count": 13,
   "metadata": {},
   "outputs": [
    {
     "name": "stdout",
     "output_type": "stream",
     "text": [
      "         Date    Adj Close\n",
      "1  2019-01-03  1500.280029\n",
      "2  2019-01-04  1575.390015\n",
      "3  2019-01-07  1629.510010\n",
      "4  2019-01-08  1656.579956\n",
      "5  2019-01-09  1659.420044\n"
     ]
    }
   ],
   "source": [
    "# Daily Prices for AMAZON\n",
    "data = pd.read_csv ('AMZN.csv')\n",
    "df = pd.DataFrame(data, columns= ['Date','Adj Close'], index = [1,2,3,4,5])\n",
    "print (df.head(6))"
   ]
  },
  {
   "cell_type": "markdown",
   "metadata": {},
   "source": [
    "# 1C"
   ]
  },
  {
   "cell_type": "code",
   "execution_count": 14,
   "metadata": {},
   "outputs": [
    {
     "name": "stdout",
     "output_type": "stream",
     "text": [
      "       Date    Adj Close\n",
      "0  1/2/2019  2510.030029\n",
      "1  1/3/2019  2447.889893\n",
      "2  1/4/2019  2531.939941\n",
      "3  1/7/2019  2549.689941\n",
      "4  1/8/2019  2574.409912\n"
     ]
    }
   ],
   "source": [
    "\n",
    "#Daily Price S&P 500\n",
    "data1 = pd.read_csv ('GSPC.csv')\n",
    "df1 = pd.DataFrame(data1, columns= ['Date','Adj Close'])\n",
    "print (df1.head())"
   ]
  },
  {
   "cell_type": "markdown",
   "metadata": {},
   "source": [
    "# 2A-1"
   ]
  },
  {
   "cell_type": "code",
   "execution_count": 15,
   "metadata": {},
   "outputs": [
    {
     "name": "stdout",
     "output_type": "stream",
     "text": [
      "   Adj Close\n",
      "1  -0.025242\n",
      "2   0.050064\n",
      "3   0.034353\n",
      "4   0.016612\n"
     ]
    }
   ],
   "source": [
    "#Percent Change AMAZON\n",
    "col_list = ['Adj Close']\n",
    "col_list1 = ['Date']\n",
    "val1 = pd.read_csv(\"AMZN.csv\", usecols=col_list)\n",
    "val2 = pd.read_csv(\"GSPC.csv\", usecols=col_list)\n",
    "val3 = pd.read_csv(\"AMZN.csv\", usecols=col_list1)\n",
    "val4 = pd.read_csv(\"GSPC.csv\", usecols=col_list1)\n",
    "data = pd.read_csv ('AMZN.csv')\n",
    "amz= val1.pct_change()\n",
    "print(amz.head(5).dropna())\n"
   ]
  },
  {
   "cell_type": "markdown",
   "metadata": {},
   "source": [
    "# 2A-2"
   ]
  },
  {
   "cell_type": "code",
   "execution_count": 16,
   "metadata": {},
   "outputs": [
    {
     "name": "stdout",
     "output_type": "stream",
     "text": [
      "   Adj Close\n",
      "1  -0.024757\n",
      "2   0.034336\n",
      "3   0.007010\n",
      "4   0.009695\n"
     ]
    }
   ],
   "source": [
    "#S&P 500 Percent Change\n",
    "import numpy as np\n",
    "data2 = pd.read_csv ('GSPC.csv')\n",
    "sap = val2.pct_change()\n",
    "print(sap.head(5).dropna())"
   ]
  },
  {
   "cell_type": "code",
   "execution_count": 17,
   "metadata": {},
   "outputs": [
    {
     "data": {
      "image/png": "[encoded data removed]",
      "text/plain": [
       "<Figure size 432x288 with 1 Axes>"
      ]
     },
     "metadata": {
      "needs_background": "light"
     },
     "output_type": "display_data"
    }
   ],
   "source": [
    "#Percent Change S&P 500 Graph\n",
    "fig = plt.figure()\n",
    "ax = fig.add_axes([0,0,1,1])\n",
    "x = val4['Date']\n",
    "y = sap['Adj Close']\n",
    "ax.bar(x,y)\n",
    "plt.title('Percent Change S&P 500')\n",
    "plt.xlabel('Date')\n",
    "plt.ylabel('Adj. Close')\n",
    "plt.show()"
   ]
  },
  {
   "cell_type": "markdown",
   "metadata": {},
   "source": [
    "# 2B"
   ]
  },
  {
   "cell_type": "code",
   "execution_count": 18,
   "metadata": {},
   "outputs": [
    {
     "data": {
      "image/png": "[encoded data removed]",
      "text/plain": [
       "<Figure size 432x288 with 1 Axes>"
      ]
     },
     "metadata": {
      "needs_background": "light"
     },
     "output_type": "display_data"
    }
   ],
   "source": [
    "# Percent Change AMAZON\n",
    "fig = plt.figure()\n",
    "ax = fig.add_axes([0,0,1,1])\n",
    "xx = val3['Date']\n",
    "yx = amz['Adj Close']\n",
    "ax.bar(xx,yx)\n",
    "plt.title('Percent Change Amazon')\n",
    "plt.xlabel('Date')\n",
    "plt.ylabel('Adj. Close')\n",
    "plt.show()"
   ]
  },
  {
   "cell_type": "markdown",
   "metadata": {},
   "source": [
    "# 2C"
   ]
  },
  {
   "cell_type": "code",
   "execution_count": 8,
   "metadata": {},
   "outputs": [
    {
     "name": "stdout",
     "output_type": "stream",
     "text": [
      "Mean Adj Close    1788.955538\n",
      "dtype: float64\n",
      "Standard Deviation Adj Close    101.448012\n",
      "dtype: float64\n",
      "Variation Adj Close    10291.699111\n",
      "dtype: float64\n",
      "Min Adj Close    1500.280029\n",
      "dtype: float64\n",
      "Max Adj Close    2020.98999\n",
      "dtype: float64\n"
     ]
    }
   ],
   "source": [
    "#AMAZON Statistics\n",
    "print(\"Mean\",val1.mean())\n",
    "print(\"Standard Deviation\", val1.std())\n",
    "print(\"Variation\", val1.var())\n",
    "print(\"Min\", val1.min())\n",
    "print(\"Max\", val1.max())"
   ]
  },
  {
   "cell_type": "code",
   "execution_count": 9,
   "metadata": {},
   "outputs": [
    {
     "name": "stdout",
     "output_type": "stream",
     "text": [
      "Mean Adj Close    2912.091744\n",
      "dtype: float64\n",
      "Standard Deviation Adj Close    149.623213\n",
      "dtype: float64\n",
      "Variation Adj Close    22387.105845\n",
      "dtype: float64\n",
      "Min Adj Close    2447.889893\n",
      "dtype: float64\n",
      "Max Adj Close    3240.02002\n",
      "dtype: float64\n"
     ]
    }
   ],
   "source": [
    "#S&P 500 Stats\n",
    "print(\"Mean\",val2.mean())\n",
    "print(\"Standard Deviation\", val2.std())\n",
    "print(\"Variation\", val2.var())\n",
    "print(\"Min\", val2.min())\n",
    "print(\"Max\", val2.max())"
   ]
  },
  {
   "cell_type": "markdown",
   "metadata": {},
   "source": [
    "# 3A"
   ]
  },
  {
   "cell_type": "code",
   "execution_count": 10,
   "metadata": {},
   "outputs": [
    {
     "data": {
      "image/png": "[encoded data removed]",
      "text/plain": [
       "<Figure size 432x288 with 1 Axes>"
      ]
     },
     "metadata": {
      "needs_background": "light"
     },
     "output_type": "display_data"
    }
   ],
   "source": [
    "#Percent Change Between S&P 500 and AMAZON\n",
    "sandp= sap.dropna()\n",
    "g = amz.dropna()\n",
    "x3 = g\n",
    "y3 = sandp\n",
    "\n",
    "x, y = x3,y3\n",
    "fig, ax = plt.subplots()\n",
    "ax.scatter(x, y, c='b')\n",
    "line = mlines.Line2D([0, 1], [0, 1], color='black')\n",
    "transform = ax.transAxes\n",
    "line.set_transform(transform)\n",
    "ax.add_line(line)\n",
    "ax.set_title('Percent Change Between S%P 500 and Amazon')\n",
    "ax.set_xlabel('% Change AMAZON')\n",
    "ax.set_ylabel('% Change S&P500')\n",
    "plt.show()\n",
    "\n",
    "\n"
   ]
  },
  {
   "cell_type": "markdown",
   "metadata": {},
   "source": [
    "# 3B"
   ]
  },
  {
   "cell_type": "code",
   "execution_count": 11,
   "metadata": {},
   "outputs": [
    {
     "data": {
      "text/plain": [
       "Text(0, 0.5, '% Change S&P 500')"
      ]
     },
     "execution_count": 11,
     "metadata": {},
     "output_type": "execute_result"
    },
    {
     "data": {
      "image/png": "[encoded data removed]",
      "text/plain": [
       "<Figure size 432x288 with 1 Axes>"
      ]
     },
     "metadata": {
      "needs_background": "light"
     },
     "output_type": "display_data"
    }
   ],
   "source": [
    "#Regression Model S&P 500 vs AMAZON\n",
    "sb.regplot(amz.dropna(),sap.dropna())\n",
    "plt.title('S&P vs Amazon')\n",
    "plt.xlabel(\"% Change AMAZON\")\n",
    "plt.ylabel(\"% Change S&P 500\")"
   ]
  },
  {
   "cell_type": "markdown",
   "metadata": {},
   "source": [
    "# 3C"
   ]
  },
  {
   "cell_type": "code",
   "execution_count": 12,
   "metadata": {},
   "outputs": [
    {
     "name": "stdout",
     "output_type": "stream",
     "text": [
      "Intercept=  [0.0006984]\n",
      "Coefficient=  [[0.39755]]\n",
      "Mean Squared Error: 7.510750200512215e-05\n",
      "R Squared =  0.4953501337866105\n"
     ]
    }
   ],
   "source": [
    "regressor = LinearRegression()\n",
    "regressor.fit(x3,y3)\n",
    "y_pred = regressor.predict(x3)\n",
    "r2 = r2_score(x3, y3)\n",
    "print(\"Intercept= \", regressor.intercept_)\n",
    "print(\"Coefficient= \",regressor.coef_)\n",
    "print('Mean Squared Error:', metrics.mean_squared_error(x3, y_pred))\n",
    "print(\"R Squared = \",r2)"
   ]
  },
  {
   "cell_type": "code",
   "execution_count": 4,
   "metadata": {},
   "outputs": [
    {
     "data": {
      "text/plain": [
       "False"
      ]
     },
     "execution_count": 4,
     "metadata": {},
     "output_type": "execute_result"
    }
   ],
   "source": [
    "import pandas as pd\n",
    "info=pd.Series([-1,22,45,68,20])\n",
    "-1 in info"
   ]
  },
  {
   "cell_type": "code",
   "execution_count": 6,
   "metadata": {},
   "outputs": [
    {
     "data": {
      "text/plain": [
       "array([10, 11, 12, 13, 14, 15, 16, 17, 18, 19])"
      ]
     },
     "execution_count": 6,
     "metadata": {},
     "output_type": "execute_result"
    }
   ],
   "source": [
    "np.arange(10,20)"
   ]
  },
  {
   "cell_type": "code",
   "execution_count": 7,
   "metadata": {},
   "outputs": [],
   "source": [
    "import numpy as np\n",
    "data = [[81,65,43],[22,14,5],[62,6]]\n",
    "npArray1 = np.array(data)"
   ]
  },
  {
   "cell_type": "code",
   "execution_count": 11,
   "metadata": {},
   "outputs": [
    {
     "ename": "AttributeError",
     "evalue": "'list' object has no attribute 'np'",
     "output_type": "error",
     "traceback": [
      "\u001b[1;31m---------------------------------------------------------------------------\u001b[0m",
      "\u001b[1;31mAttributeError\u001b[0m                            Traceback (most recent call last)",
      "\u001b[1;32m<ipython-input-11-f8f0677c5282>\u001b[0m in \u001b[0;36m<module>\u001b[1;34m\u001b[0m\n\u001b[1;32m----> 1\u001b[1;33m \u001b[0mdata\u001b[0m\u001b[1;33m.\u001b[0m\u001b[0mnp\u001b[0m\u001b[1;33m.\u001b[0m\u001b[0marray\u001b[0m\u001b[1;33m(\u001b[0m\u001b[1;33m)\u001b[0m\u001b[1;33m\u001b[0m\u001b[1;33m\u001b[0m\u001b[0m\n\u001b[0m",
      "\u001b[1;31mAttributeError\u001b[0m: 'list' object has no attribute 'np'"
     ]
    }
   ],
   "source": [
    "data.np.array()"
   ]
  },
  {
   "cell_type": "code",
   "execution_count": 19,
   "metadata": {},
   "outputs": [
    {
     "data": {
      "text/html": [
       "<div>\n",
       "<style scoped>\n",
       "    .dataframe tbody tr th:only-of-type {\n",
       "        vertical-align: middle;\n",
       "    }\n",
       "\n",
       "    .dataframe tbody tr th {\n",
       "        vertical-align: top;\n",
       "    }\n",
       "\n",
       "    .dataframe thead th {\n",
       "        text-align: right;\n",
       "    }\n",
       "</style>\n",
       "<table border=\"1\" class=\"dataframe\">\n",
       "  <thead>\n",
       "    <tr style=\"text-align: right;\">\n",
       "      <th></th>\n",
       "      <th>Adj Close</th>\n",
       "    </tr>\n",
       "  </thead>\n",
       "  <tbody>\n",
       "    <tr>\n",
       "      <th>count</th>\n",
       "      <td>251.000000</td>\n",
       "    </tr>\n",
       "    <tr>\n",
       "      <th>mean</th>\n",
       "      <td>1788.955538</td>\n",
       "    </tr>\n",
       "    <tr>\n",
       "      <th>std</th>\n",
       "      <td>101.448012</td>\n",
       "    </tr>\n",
       "    <tr>\n",
       "      <th>min</th>\n",
       "      <td>1500.280029</td>\n",
       "    </tr>\n",
       "    <tr>\n",
       "      <th>25%</th>\n",
       "      <td>1735.780029</td>\n",
       "    </tr>\n",
       "    <tr>\n",
       "      <th>50%</th>\n",
       "      <td>1786.400024</td>\n",
       "    </tr>\n",
       "    <tr>\n",
       "      <th>75%</th>\n",
       "      <td>1855.319946</td>\n",
       "    </tr>\n",
       "    <tr>\n",
       "      <th>max</th>\n",
       "      <td>2020.989990</td>\n",
       "    </tr>\n",
       "  </tbody>\n",
       "</table>\n",
       "</div>"
      ],
      "text/plain": [
       "         Adj Close\n",
       "count   251.000000\n",
       "mean   1788.955538\n",
       "std     101.448012\n",
       "min    1500.280029\n",
       "25%    1735.780029\n",
       "50%    1786.400024\n",
       "75%    1855.319946\n",
       "max    2020.989990"
      ]
     },
     "execution_count": 19,
     "metadata": {},
     "output_type": "execute_result"
    }
   ],
   "source": [
    "val1.describe()"
   ]
  },
  {
   "cell_type": "code",
   "execution_count": null,
   "metadata": {},
   "outputs": [],
   "source": []
  }
 ],
 "metadata": {
  "kernelspec": {
   "display_name": "Python 3",
   "language": "python",
   "name": "python3"
  },
  "language_info": {
   "codemirror_mode": {
    "name": "ipython",
    "version": 3
   },
   "file_extension": ".py",
   "mimetype": "text/x-python",
   "name": "python",
   "nbconvert_exporter": "python",
   "pygments_lexer": "ipython3",
   "version": "3.8.3"
  }
 },
 "nbformat": 4,
 "nbformat_minor": 4
}
